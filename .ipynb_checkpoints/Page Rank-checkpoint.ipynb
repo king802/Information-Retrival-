{
 "cells": [
  {
   "cell_type": "markdown",
   "metadata": {},
   "source": [
    "# Page Rank"
   ]
  },
  {
   "cell_type": "markdown",
   "metadata": {},
   "source": [
    "This Code is used to run iterative page rank over a given set of urls to get back the ranking of which pages have the most trafic comming into them. The text files in this code are a directed graph of a set of urls. where the directed edges are the links from a page to another. The files can be found in the following format. \n",
    "\n",
    "\n",
    "### Vertices: \n",
    "\n",
    "| Page ID       | Page URL      |\n",
    "| ------------- |:-------------:|\n",
    "| 0      | edu.00zl5e |\n",
    "| 1      | edu.06hxbt      |\n",
    "| 2 | edu.082ifc      |\n",
    "\n",
    "### Edges: \n",
    "\n",
    "| URL with the link       | URL of the link     |\n",
    "| ------------- |:-------------:|\n",
    "| 386      | 440 |\n",
    "| 18      | 234     |\n",
    "| 279 | 12      |\n"
   ]
  },
  {
   "cell_type": "markdown",
   "metadata": {},
   "source": [
    "### Sudo Code"
   ]
  },
  {
   "cell_type": "code",
   "execution_count": 2,
   "metadata": {},
   "outputs": [],
   "source": [
    " \n",
    "# P is the set of all pages; |P| = N\n",
    "# S is the set of sink nodes, i.e., pages that have no out links\n",
    "# M(p) is the set (without duplicates) of pages that link to page p\n",
    "# L(q) is the number of out-links (without duplicates) from page q\n",
    "# d is the PageRank damping/teleportation factor; use d = 0.85 as a fairly typical value\n",
    "\n",
    "# foreach page p in P\n",
    "#   PR(p) = 1/N                          /* initial value */\n",
    "\n",
    "# while PageRank has not converged do\n",
    "#   sinkPR = 0\n",
    "#   foreach page p in S                  /* calculate total sink PR */\n",
    "#     sinkPR += PR(p)\n",
    "#   foreach page p in P\n",
    "#     newPR(p) = (1-d)/N                 /* teleportation */\n",
    "#     newPR(p) += d*sinkPR/N             /* spread remaining sink PR evenly */\n",
    "#     foreach page q in M(p)             /* pages pointing to p */\n",
    "#       newPR(p) += d*PR(q)/L(q)         /* add share of PageRank from in-links */\n",
    "#   foreach page p\n",
    "#     PR(p) = newPR(p)\n",
    "\n",
    "# return PR"
   ]
  },
  {
   "cell_type": "markdown",
   "metadata": {},
   "source": [
    "### My Implementation "
   ]
  },
  {
   "cell_type": "code",
   "execution_count": 1,
   "metadata": {},
   "outputs": [],
   "source": [
    "import sys\n",
    "\n",
    "import numpy as np"
   ]
  },
  {
   "cell_type": "code",
   "execution_count": null,
   "metadata": {},
   "outputs": [],
   "source": [
    "vert_path = sys.argv[1]\n",
    "edge_path = sys.argv[2]"
   ]
  }
 ],
 "metadata": {
  "kernelspec": {
   "display_name": "Python 3",
   "language": "python",
   "name": "python3"
  },
  "language_info": {
   "codemirror_mode": {
    "name": "ipython",
    "version": 3
   },
   "file_extension": ".py",
   "mimetype": "text/x-python",
   "name": "python",
   "nbconvert_exporter": "python",
   "pygments_lexer": "ipython3",
   "version": "3.7.0"
  }
 },
 "nbformat": 4,
 "nbformat_minor": 2
}
