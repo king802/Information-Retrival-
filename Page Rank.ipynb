{
 "cells": [
  {
   "cell_type": "markdown",
   "metadata": {},
   "source": [
    "# Page Rank"
   ]
  },
  {
   "cell_type": "markdown",
   "metadata": {},
   "source": [
    "This Code is used to run iterative page rank over a given set of urls to get back the ranking of which pages have the most trafic comming into them. The text files in this code are a directed graph of a set of urls. where the directed edges are the links from a page to another. The files can be found in the following format. \n",
    "\n",
    "\n",
    "### Vertices: \n",
    "\n",
    "| Page ID       | Page URL      |\n",
    "| ------------- |:-------------:|\n",
    "| 0      | edu.00zl5e |\n",
    "| 1      | edu.06hxbt      |\n",
    "| 2 | edu.082ifc      |\n",
    "\n",
    "### Edges: \n",
    "\n",
    "| URL with the link       | URL of the link     |\n",
    "| ------------- |:-------------:|\n",
    "| 386      | 440 |\n",
    "| 18      | 234     |\n",
    "| 279 | 12      |\n"
   ]
  },
  {
   "cell_type": "markdown",
   "metadata": {},
   "source": [
    "### Sudo Code"
   ]
  },
  {
   "cell_type": "code",
   "execution_count": 10,
   "metadata": {},
   "outputs": [],
   "source": [
    " \n",
    "# P is the set of all pages; |P| = N\n",
    "# S is the set of sink nodes, i.e., pages that have no out links\n",
    "# M(p) is the set (without duplicates) of pages that link to page p\n",
    "# L(q) is the number of out-links (without duplicates) from page q\n",
    "# d is the PageRank damping/teleportation factor; use d = 0.85 as a fairly typical value\n",
    "\n",
    "# foreach page p in P\n",
    "#   PR(p) = 1/N                          /* initial value */\n",
    "\n",
    "# while PageRank has not converged do\n",
    "#   sinkPR = 0\n",
    "#   foreach page p in S                  /* calculate total sink PR */\n",
    "#     sinkPR += PR(p)\n",
    "#   foreach page p in P\n",
    "#     newPR(p) = (1-d)/N                 /* teleportation */\n",
    "#     newPR(p) += d*sinkPR/N             /* spread remaining sink PR evenly */\n",
    "#     foreach page q in M(p)             /* pages pointing to p */\n",
    "#       newPR(p) += d*PR(q)/L(q)         /* add share of PageRank from in-links */\n",
    "#   foreach page p\n",
    "#     PR(p) = newPR(p)\n",
    "\n",
    "# return PR"
   ]
  },
  {
   "cell_type": "markdown",
   "metadata": {},
   "source": [
    "### My Implementation "
   ]
  },
  {
   "cell_type": "code",
   "execution_count": 11,
   "metadata": {},
   "outputs": [],
   "source": [
    "import sys\n",
    "\n",
    "import numpy as np"
   ]
  },
  {
   "cell_type": "markdown",
   "metadata": {},
   "source": [
    "Okay lets start of by calling our varriables and then reading in the verticies and edges of the page graph we will be ranking. "
   ]
  },
  {
   "cell_type": "code",
   "execution_count": 12,
   "metadata": {},
   "outputs": [],
   "source": [
    "P = []\n",
    "M = {}\n",
    "L = {}\n",
    "probabilities = {}\n",
    "\n",
    "vert_path = \"vertices-edu.txt\"\n",
    "edge_path = \"edges-edu.txt\"\n",
    "\n",
    "f = open(vert_path, \"r\")\n",
    "for x in f:\n",
    "    y = x.split(\" \")\n",
    "    temp = y[1].replace('\\n', '')\n",
    "    P.append(temp)\n",
    "    M[temp] = []\n",
    "    L[temp] = 0\n",
    "f.close()\n",
    "\n",
    "f = open(edge_path, \"r\")\n",
    "for x in f:\n",
    "    y = x.split(\" \")\n",
    "    temp = y[1].replace('\\n', '')\n",
    "    start_node = P[int(y[0])]\n",
    "    end_node = P[int(y[1])]\n",
    "    M[start_node].append(end_node)\n",
    "    L[end_node] += 1\n",
    "f.close()"
   ]
  },
  {
   "cell_type": "markdown",
   "metadata": {},
   "source": [
    "### Helper function to find sink nodes"
   ]
  },
  {
   "cell_type": "code",
   "execution_count": 13,
   "metadata": {},
   "outputs": [],
   "source": [
    "def calculate_sink(out_links):\n",
    "    sink = []\n",
    "    for node in out_links:\n",
    "        if out_links[node] == 0:\n",
    "            sink.append(node)\n",
    "    return sink\n"
   ]
  },
  {
   "cell_type": "markdown",
   "metadata": {},
   "source": [
    "Okay lets calculate the ranks of each page the proabablitiy of ending up there"
   ]
  },
  {
   "cell_type": "code",
   "execution_count": 14,
   "metadata": {},
   "outputs": [],
   "source": [
    "N = len(P)\n",
    "d = .85\n",
    "S = calculate_sink(L)\n",
    "\n",
    "for p in P:\n",
    "    probabilities[p] = 1 / N\n",
    "\n",
    "i = 0\n",
    "criteria = 0\n",
    "times_met = 0\n",
    "while times_met != 4:\n",
    "    entropy = 0\n",
    "    last_criteria = criteria\n",
    "    for page in P:\n",
    "        entropy += (probabilities[page] * np.log2(probabilities[page]))\n",
    "    criteria = np.exp2(entropy * -1)\n",
    "    if abs(last_criteria - criteria) < 1:\n",
    "        times_met += 1\n",
    "    else:\n",
    "        times_met = 0\n",
    "\n",
    "    old = probabilities.copy()\n",
    "    sinkPR = 0\n",
    "    for p in S:\n",
    "        sinkPR += old[p]\n",
    "    for p in P:\n",
    "        probabilities[p] = (1 - d) / N\n",
    "        probabilities[p] += d * sinkPR / N\n",
    "        for q in M[p]:\n",
    "            probabilities[p] += (d * old[q] / L[q])\n",
    "    i += 1\n"
   ]
  },
  {
   "cell_type": "code",
   "execution_count": 20,
   "metadata": {},
   "outputs": [],
   "source": [
    "probabilities = {k: v for k, v in sorted(probabilities.items(), key=lambda item: item[1])}"
   ]
  },
  {
   "cell_type": "code",
   "execution_count": 46,
   "metadata": {},
   "outputs": [
    {
     "data": {
      "text/html": [
       "<div>\n",
       "<style scoped>\n",
       "    .dataframe tbody tr th:only-of-type {\n",
       "        vertical-align: middle;\n",
       "    }\n",
       "\n",
       "    .dataframe tbody tr th {\n",
       "        vertical-align: top;\n",
       "    }\n",
       "\n",
       "    .dataframe thead th {\n",
       "        text-align: right;\n",
       "    }\n",
       "</style>\n",
       "<table border=\"1\" class=\"dataframe\">\n",
       "  <thead>\n",
       "    <tr style=\"text-align: right;\">\n",
       "      <th></th>\n",
       "      <th>Rank</th>\n",
       "      <th>Page Name</th>\n",
       "      <th>Probabilities</th>\n",
       "    </tr>\n",
       "  </thead>\n",
       "  <tbody>\n",
       "    <tr>\n",
       "      <th>0</th>\n",
       "      <td>0</td>\n",
       "      <td>edu.00zl5e</td>\n",
       "      <td>(4.4565136727699577e-07, 4.4565136727699577e-0...</td>\n",
       "    </tr>\n",
       "    <tr>\n",
       "      <th>1</th>\n",
       "      <td>1</td>\n",
       "      <td>edu.06hxbt</td>\n",
       "      <td>(4.4565136727699577e-07, 4.4565136727699577e-0...</td>\n",
       "    </tr>\n",
       "    <tr>\n",
       "      <th>2</th>\n",
       "      <td>2</td>\n",
       "      <td>edu.082ifc</td>\n",
       "      <td>(4.4565136727699577e-07, 4.4565136727699577e-0...</td>\n",
       "    </tr>\n",
       "    <tr>\n",
       "      <th>3</th>\n",
       "      <td>3</td>\n",
       "      <td>edu.083mjs</td>\n",
       "      <td>(4.4565136727699577e-07, 4.4565136727699577e-0...</td>\n",
       "    </tr>\n",
       "    <tr>\n",
       "      <th>4</th>\n",
       "      <td>4</td>\n",
       "      <td>edu.09xzrr</td>\n",
       "      <td>(4.4565136727699577e-07, 4.4565136727699577e-0...</td>\n",
       "    </tr>\n",
       "  </tbody>\n",
       "</table>\n",
       "</div>"
      ],
      "text/plain": [
       "   Rank   Page Name                                      Probabilities\n",
       "0     0  edu.00zl5e  (4.4565136727699577e-07, 4.4565136727699577e-0...\n",
       "1     1  edu.06hxbt  (4.4565136727699577e-07, 4.4565136727699577e-0...\n",
       "2     2  edu.082ifc  (4.4565136727699577e-07, 4.4565136727699577e-0...\n",
       "3     3  edu.083mjs  (4.4565136727699577e-07, 4.4565136727699577e-0...\n",
       "4     4  edu.09xzrr  (4.4565136727699577e-07, 4.4565136727699577e-0..."
      ]
     },
     "execution_count": 46,
     "metadata": {},
     "output_type": "execute_result"
    }
   ],
   "source": [
    "df.head()"
   ]
  },
  {
   "cell_type": "code",
   "execution_count": 54,
   "metadata": {},
   "outputs": [
    {
     "name": "stdout",
     "output_type": "stream",
     "text": [
      "0 | edu.00zl5e | 0.000045\n",
      "\n",
      "1 | edu.06hxbt | 0.000045\n",
      "\n",
      "2 | edu.082ifc | 0.000045\n",
      "\n",
      "3 | edu.083mjs | 0.000045\n",
      "\n",
      "4 | edu.09xzrr | 0.000045\n",
      "\n",
      "5 | edu.0aoqqj | 0.000045\n",
      "\n",
      "6 | edu.0ax4el | 0.000045\n",
      "\n",
      "7 | edu.0c5fez | 0.000045\n",
      "\n",
      "8 | edu.0cosn2 | 0.000045\n",
      "\n",
      "9 | edu.0dcdp8 | 0.000045\n",
      "\n"
     ]
    }
   ],
   "source": [
    "f = open(\"results.txt\", \"w\")\n",
    "for i, page in enumerate(P):\n",
    "    \n",
    "    line = str(i) + \" | \" + page + \" | \" + '{:7f}'.format(probabilities[page]*100) + \"\\n\"\n",
    "    if i < 10:\n",
    "        print(line)\n",
    "    f.write(line)\n",
    "f.close()\n"
   ]
  },
  {
   "cell_type": "code",
   "execution_count": null,
   "metadata": {},
   "outputs": [],
   "source": []
  }
 ],
 "metadata": {
  "kernelspec": {
   "display_name": "Python 3",
   "language": "python",
   "name": "python3"
  },
  "language_info": {
   "codemirror_mode": {
    "name": "ipython",
    "version": 3
   },
   "file_extension": ".py",
   "mimetype": "text/x-python",
   "name": "python",
   "nbconvert_exporter": "python",
   "pygments_lexer": "ipython3",
   "version": "3.7.0"
  }
 },
 "nbformat": 4,
 "nbformat_minor": 2
}
